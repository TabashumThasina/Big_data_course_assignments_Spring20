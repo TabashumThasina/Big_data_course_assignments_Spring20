{
 "cells": [
  {
   "cell_type": "markdown",
   "metadata": {},
   "source": [
    "1: Lists\n",
    "1) Make a list with the spelled-out number strings ‘one’, ‘two’, ‘three’, ‘four’, and ‘five’ in that order and call it myList.\n"
   ]
  },
  {
   "cell_type": "code",
   "execution_count": 4,
   "metadata": {},
   "outputs": [
    {
     "data": {
      "text/plain": [
       "['one', 'two', 'three', 'four', 'five']"
      ]
     },
     "execution_count": 4,
     "metadata": {},
     "output_type": "execute_result"
    }
   ],
   "source": [
    "myList =['one', 'two', 'three', 'four',  'five']\n",
    "myList"
   ]
  },
  {
   "cell_type": "markdown",
   "metadata": {},
   "source": [
    "2) Remove ‘three’ from the list using positional indexing."
   ]
  },
  {
   "cell_type": "code",
   "execution_count": 5,
   "metadata": {},
   "outputs": [
    {
     "data": {
      "text/plain": [
       "['one', 'two', 'four', 'five']"
      ]
     },
     "execution_count": 5,
     "metadata": {},
     "output_type": "execute_result"
    }
   ],
   "source": [
    "myList.remove('three')\n",
    "myList"
   ]
  },
  {
   "cell_type": "markdown",
   "metadata": {},
   "source": [
    "3) Check if ‘four’ is in the list."
   ]
  },
  {
   "cell_type": "code",
   "execution_count": 6,
   "metadata": {},
   "outputs": [
    {
     "data": {
      "text/plain": [
       "True"
      ]
     },
     "execution_count": 6,
     "metadata": {},
     "output_type": "execute_result"
    }
   ],
   "source": [
    "'four' in myList"
   ]
  },
  {
   "cell_type": "markdown",
   "metadata": {},
   "source": [
    " Append ‘six’ to the end of the list, then print the length of the list."
   ]
  },
  {
   "cell_type": "code",
   "execution_count": 18,
   "metadata": {},
   "outputs": [
    {
     "data": {
      "text/plain": [
       "5"
      ]
     },
     "execution_count": 18,
     "metadata": {},
     "output_type": "execute_result"
    }
   ],
   "source": [
    "myList.append('six')\n",
    "len(myList)"
   ]
  },
  {
   "cell_type": "markdown",
   "metadata": {},
   "source": [
    "5) Print the contents of the list, but also next to each item print \n",
    "the length of the string (e.g. one is 3, four is 4) using a for loop."
   ]
  },
  {
   "cell_type": "code",
   "execution_count": 19,
   "metadata": {},
   "outputs": [
    {
     "name": "stdout",
     "output_type": "stream",
     "text": [
      "3\n",
      "3\n",
      "4\n",
      "4\n",
      "3\n"
     ]
    }
   ],
   "source": [
    "for i in myList:\n",
    "    print(len(i))"
   ]
  },
  {
   "cell_type": "markdown",
   "metadata": {},
   "source": [
    "Create a list only of the lengths of the strings and show your result. You can use the loop before to fill the list."
   ]
  },
  {
   "cell_type": "code",
   "execution_count": 20,
   "metadata": {},
   "outputs": [
    {
     "data": {
      "text/plain": [
       "[3, 3, 4, 4, 3]"
      ]
     },
     "execution_count": 20,
     "metadata": {},
     "output_type": "execute_result"
    }
   ],
   "source": [
    "indexList = []\n",
    "for i in myList:\n",
    "    indexList.append(len(i))\n",
    "indexList"
   ]
  },
  {
   "cell_type": "markdown",
   "metadata": {},
   "source": [
    "2: Dictionaries\n",
    "1) Make a dictionary with the keys English words as below, and the values be the translation. You can use this language example (German) or choose your own. Note: you need to make sure all of these words are represented as strings, in quotes.\n",
    "apple - Apfel\n",
    "apples - Äpfel\n",
    "I - Ich\n",
    "and - und\n"
   ]
  },
  {
   "cell_type": "code",
   "execution_count": 23,
   "metadata": {},
   "outputs": [
    {
     "data": {
      "text/plain": [
       "{'apple': 'Apfel',\n",
       " 'apples': 'Äpfel',\n",
       " 'I': 'Ich',\n",
       " 'and': 'und',\n",
       " 'like': 'mag',\n",
       " 'strawberries': 'Erdbeeren'}"
      ]
     },
     "execution_count": 23,
     "metadata": {},
     "output_type": "execute_result"
    }
   ],
   "source": [
    "dic = {\"apple\":\"Apfel\",\n",
    "      \"apples\":\"Äpfel\",\n",
    "      \"I\":\"Ich\",\n",
    "      \"and\":\"und\",\n",
    "      \"like\":\"mag\",\n",
    "      \"strawberries\":\"Erdbeeren\"\n",
    "}\n",
    "dic"
   ]
  },
  {
   "cell_type": "markdown",
   "metadata": {},
   "source": [
    " Use the dictionary to look up the translation for ‘apple’ and ‘like"
   ]
  },
  {
   "cell_type": "code",
   "execution_count": 25,
   "metadata": {},
   "outputs": [
    {
     "data": {
      "text/plain": [
       "'Apfel'"
      ]
     },
     "execution_count": 25,
     "metadata": {},
     "output_type": "execute_result"
    }
   ],
   "source": [
    "dic['apple']"
   ]
  },
  {
   "cell_type": "code",
   "execution_count": 26,
   "metadata": {},
   "outputs": [
    {
     "data": {
      "text/plain": [
       "'mag'"
      ]
     },
     "execution_count": 26,
     "metadata": {},
     "output_type": "execute_result"
    }
   ],
   "source": [
    "dic['like']"
   ]
  },
  {
   "cell_type": "markdown",
   "metadata": {},
   "source": [
    "3) Make a variable var with the string “I like apples and strawberries”."
   ]
  },
  {
   "cell_type": "code",
   "execution_count": 27,
   "metadata": {},
   "outputs": [
    {
     "data": {
      "text/plain": [
       "'I like apples and strawberries'"
      ]
     },
     "execution_count": 27,
     "metadata": {},
     "output_type": "execute_result"
    }
   ],
   "source": [
    "s = \"I like apples and strawberries\"\n",
    "s"
   ]
  },
  {
   "cell_type": "markdown",
   "metadata": {},
   "source": [
    "4) Now create a list from var with each word a separate item (this is a string split operation)."
   ]
  },
  {
   "cell_type": "code",
   "execution_count": 30,
   "metadata": {},
   "outputs": [
    {
     "data": {
      "text/plain": [
       "['I', 'like', 'apples', 'and', 'strawberries']"
      ]
     },
     "execution_count": 30,
     "metadata": {},
     "output_type": "execute_result"
    }
   ],
   "source": [
    "newS = s.split(\" \")\n",
    "newS"
   ]
  },
  {
   "cell_type": "markdown",
   "metadata": {},
   "source": [
    "5) Iterate through the list you’ve created and replace any word in your dictionary with the translation."
   ]
  },
  {
   "cell_type": "code",
   "execution_count": 40,
   "metadata": {},
   "outputs": [
    {
     "data": {
      "text/plain": [
       "['Ich', 'mag', 'Äpfel', 'und', 'Erdbeeren']"
      ]
     },
     "execution_count": 40,
     "metadata": {},
     "output_type": "execute_result"
    }
   ],
   "source": [
    "for i in range(len(newS)):\n",
    "    if newS[i] in dic:\n",
    "        newS[i] = dic[newS[i]]\n",
    "newS"
   ]
  },
  {
   "cell_type": "markdown",
   "metadata": {},
   "source": [
    "6) Now take your new list and turn it into a string with spaces between the words."
   ]
  },
  {
   "cell_type": "code",
   "execution_count": 44,
   "metadata": {},
   "outputs": [
    {
     "data": {
      "text/plain": [
       "'Ich mag Äpfel und Erdbeeren'"
      ]
     },
     "execution_count": 44,
     "metadata": {},
     "output_type": "execute_result"
    }
   ],
   "source": [
    "newList = ' '.join(newS)\n",
    "newList"
   ]
  },
  {
   "cell_type": "markdown",
   "metadata": {},
   "source": [
    "3: Arrays\n",
    "1) Create an array of zeros of size 8 x 8 and print the data type of the array.\n"
   ]
  },
  {
   "cell_type": "code",
   "execution_count": 46,
   "metadata": {},
   "outputs": [
    {
     "data": {
      "text/plain": [
       "array([[0, 0, 0, 0, 0, 0, 0, 0],\n",
       "       [0, 0, 0, 0, 0, 0, 0, 0],\n",
       "       [0, 0, 0, 0, 0, 0, 0, 0],\n",
       "       [0, 0, 0, 0, 0, 0, 0, 0],\n",
       "       [0, 0, 0, 0, 0, 0, 0, 0],\n",
       "       [0, 0, 0, 0, 0, 0, 0, 0],\n",
       "       [0, 0, 0, 0, 0, 0, 0, 0],\n",
       "       [0, 0, 0, 0, 0, 0, 0, 0]])"
      ]
     },
     "execution_count": 46,
     "metadata": {},
     "output_type": "execute_result"
    }
   ],
   "source": [
    "import numpy as np\n",
    "zeros = np.zeros((8,8), dtype=int)\n",
    "zeros"
   ]
  },
  {
   "cell_type": "markdown",
   "metadata": {},
   "source": [
    "2) Fill the array with the numbers 1 to 64 first by row, then by column. \n",
    "You may want to use a for loop inside a for loop to do this."
   ]
  },
  {
   "cell_type": "code",
   "execution_count": 47,
   "metadata": {},
   "outputs": [
    {
     "data": {
      "text/plain": [
       "array([[ 1,  2,  3,  4,  5,  6,  7,  8],\n",
       "       [ 9, 10, 11, 12, 13, 14, 15, 16],\n",
       "       [17, 18, 19, 20, 21, 22, 23, 24],\n",
       "       [25, 26, 27, 28, 29, 30, 31, 32],\n",
       "       [33, 34, 35, 36, 37, 38, 39, 40],\n",
       "       [41, 42, 43, 44, 45, 46, 47, 48],\n",
       "       [49, 50, 51, 52, 53, 54, 55, 56],\n",
       "       [57, 58, 59, 60, 61, 62, 63, 64]])"
      ]
     },
     "execution_count": 47,
     "metadata": {},
     "output_type": "execute_result"
    }
   ],
   "source": [
    "count = 1\n",
    "for i in range(8):\n",
    "    for j in range(8):\n",
    "        zeros[i][j]= count\n",
    "        count = count+1\n",
    "zeros"
   ]
  },
  {
   "cell_type": "markdown",
   "metadata": {},
   "source": [
    "3) Transpose the array."
   ]
  },
  {
   "cell_type": "code",
   "execution_count": 48,
   "metadata": {},
   "outputs": [
    {
     "data": {
      "text/plain": [
       "array([[ 1,  9, 17, 25, 33, 41, 49, 57],\n",
       "       [ 2, 10, 18, 26, 34, 42, 50, 58],\n",
       "       [ 3, 11, 19, 27, 35, 43, 51, 59],\n",
       "       [ 4, 12, 20, 28, 36, 44, 52, 60],\n",
       "       [ 5, 13, 21, 29, 37, 45, 53, 61],\n",
       "       [ 6, 14, 22, 30, 38, 46, 54, 62],\n",
       "       [ 7, 15, 23, 31, 39, 47, 55, 63],\n",
       "       [ 8, 16, 24, 32, 40, 48, 56, 64]])"
      ]
     },
     "execution_count": 48,
     "metadata": {},
     "output_type": "execute_result"
    }
   ],
   "source": [
    "np.transpose(zeros)"
   ]
  },
  {
   "cell_type": "markdown",
   "metadata": {},
   "source": [
    "4) Print only the top 4 rows and columns.\n"
   ]
  },
  {
   "cell_type": "code",
   "execution_count": 49,
   "metadata": {},
   "outputs": [
    {
     "data": {
      "text/plain": [
       "array([[ 1,  2,  3,  4],\n",
       "       [ 9, 10, 11, 12],\n",
       "       [17, 18, 19, 20],\n",
       "       [25, 26, 27, 28]])"
      ]
     },
     "execution_count": 49,
     "metadata": {},
     "output_type": "execute_result"
    }
   ],
   "source": [
    "zeros[:4,:4]"
   ]
  },
  {
   "cell_type": "markdown",
   "metadata": {},
   "source": [
    "5) Make a 1D array out of your 2D array with the numbers 1 to 64 in order (note the column vs row issue, you may need transposes.)\n"
   ]
  },
  {
   "cell_type": "code",
   "execution_count": 50,
   "metadata": {},
   "outputs": [
    {
     "data": {
      "text/plain": [
       "array([ 1,  2,  3,  4,  5,  6,  7,  8,  9, 10, 11, 12, 13, 14, 15, 16, 17,\n",
       "       18, 19, 20, 21, 22, 23, 24, 25, 26, 27, 28, 29, 30, 31, 32, 33, 34,\n",
       "       35, 36, 37, 38, 39, 40, 41, 42, 43, 44, 45, 46, 47, 48, 49, 50, 51,\n",
       "       52, 53, 54, 55, 56, 57, 58, 59, 60, 61, 62, 63, 64])"
      ]
     },
     "execution_count": 50,
     "metadata": {},
     "output_type": "execute_result"
    }
   ],
   "source": [
    "zeros.flatten()"
   ]
  },
  {
   "cell_type": "markdown",
   "metadata": {},
   "source": [
    "6) Now take that 1D array you made from before and reshape it back to the original 2D array.\n"
   ]
  },
  {
   "cell_type": "code",
   "execution_count": 54,
   "metadata": {},
   "outputs": [
    {
     "data": {
      "text/plain": [
       "array([[ 1,  2,  3,  4,  5,  6,  7,  8],\n",
       "       [ 9, 10, 11, 12, 13, 14, 15, 16],\n",
       "       [17, 18, 19, 20, 21, 22, 23, 24],\n",
       "       [25, 26, 27, 28, 29, 30, 31, 32],\n",
       "       [33, 34, 35, 36, 37, 38, 39, 40],\n",
       "       [41, 42, 43, 44, 45, 46, 47, 48],\n",
       "       [49, 50, 51, 52, 53, 54, 55, 56],\n",
       "       [57, 58, 59, 60, 61, 62, 63, 64]])"
      ]
     },
     "execution_count": 54,
     "metadata": {},
     "output_type": "execute_result"
    }
   ],
   "source": [
    "zeros.reshape(8,8)"
   ]
  },
  {
   "cell_type": "markdown",
   "metadata": {},
   "source": [
    "1. Word Counts\n",
    "\n",
    "Word counts are often used in text processing to automatically classify documents by topic. They are also used to automatically measure the “sentiment” by counting, for example, the number of positive or negative words used in the comment or essay. Write code to count the number of unique words in a very large string using the following steps.\n",
    "First convert the string to a list with each word a separate item in the list. Hint: use a string split function for your language, and make sure it separates by “ ”. \n",
    "Then use a dictionary to associate each word with a count. Note, the dictionary won’t be able to increment a key unless you add it first, so you may have to check to see if it exists before setting the original count of a word to 1. \n",
    "Print each word and its count afterwards, and test with an interesting block of text that will have multiple words counted multiple times. (Note, the words don’t have to be in any particular order.)\n",
    "For example: “how much wood would a woodchuck chuck if a woodchuck could chuck wood”\n",
    "Expected output:\n",
    "how - 1\n",
    "much -1\n",
    "wood - 2\n",
    "would - 1\n",
    "a - 2\n",
    "woodchuck - 2\n",
    "chuck - 2\n",
    "if - 1\n",
    "could - 1\n"
   ]
  },
  {
   "cell_type": "code",
   "execution_count": 58,
   "metadata": {},
   "outputs": [
    {
     "name": "stdout",
     "output_type": "stream",
     "text": [
      "Enter String : how much wood would a woodchuck chuck if a woodchuck could chuck wood\n",
      "{'how': 1, 'much': 1, 'wood': 2, 'would': 1, 'a': 2, 'woodchuck': 2, 'chuck': 2, 'if': 1, 'could': 1}\n"
     ]
    }
   ],
   "source": [
    "input_str = \"how much wood would a woodchuck chuck if a woodchuck could chuck wood\"\n",
    "def wordcount(s):\n",
    "    s = s.split(\" \")\n",
    "    dic = {}\n",
    "    for i in s:\n",
    "        if i in dic.keys():\n",
    "            dic[i]= dic[i]+1\n",
    "        else:\n",
    "            dic[i]=1\n",
    "    return dic\n",
    "input_str = input(\"Enter String : \")\n",
    "print(wordcount(input_str))"
   ]
  },
  {
   "cell_type": "markdown",
   "metadata": {},
   "source": [
    "2. Adding an Array Border\n",
    "\n",
    "As we will see later in the class, arrays can be used to represent images. In particular, black and white images can be represented by a 2D array, with one number (usually 0) representing black and another number (usually 1, but sometimes something else) representing white, and gray being everything in between. Here we just want to test your ability to handle a 2D array and add a border (filled with 0's) around it. In code this means creating an array of 0’s of width+2 by height+2 size and copying the original array into the middle appropriately (Note: do not use np.pad() function).\n",
    "Test with an array in the center that has non-zero elements. First print the original array, then print the new array with the added border of 0’s. For example:\n",
    "Expected Output:\n",
    "\n",
    "Original array: \n",
    "[[ 1 1 1 1 ] \n",
    " [ 1 1 1 1 ] \n",
    " [ 1 1 1 1 ]] \n",
    "\n",
    "New array (0 on the border and 1 inside in the array): \n",
    "[[ 0 0 0 0 0 0 ] \n",
    " [ 0 1 1 1 1 0 ] \n",
    " [ 0 1 1 1 1 0 ] \n",
    " [ 0 1 1 1 1 0 ] \n",
    " [ 0 0 0 0 0 0 ]]\n"
   ]
  },
  {
   "cell_type": "code",
   "execution_count": 69,
   "metadata": {},
   "outputs": [
    {
     "data": {
      "text/plain": [
       "4"
      ]
     },
     "execution_count": 69,
     "metadata": {},
     "output_type": "execute_result"
    }
   ],
   "source": [
    "input_array = np.array([[ 1, 1 ,1 ,1 ], [ 1, 1 ,1, 1 ] ,[ 1, 1 ,1 ,1 ]])\n",
    "input_array.shape"
   ]
  },
  {
   "cell_type": "code",
   "execution_count": 76,
   "metadata": {},
   "outputs": [],
   "source": [
    "def add_borders(input_array):\n",
    "    zeros = np.zeros((input_array.shape[0]+2,input_array.shape[1]+2), dtype=int)\n",
    "    for i in range(input_array.shape[0]):\n",
    "        for j in range(input_array.shape[1]):\n",
    "            zeros[i+1][j+1]=input_array[i][j]\n",
    "    return zeros            "
   ]
  },
  {
   "cell_type": "code",
   "execution_count": 77,
   "metadata": {},
   "outputs": [
    {
     "data": {
      "text/plain": [
       "array([[0, 0, 0, 0, 0, 0],\n",
       "       [0, 1, 1, 1, 1, 0],\n",
       "       [0, 1, 1, 1, 1, 0],\n",
       "       [0, 1, 1, 1, 1, 0],\n",
       "       [0, 0, 0, 0, 0, 0]])"
      ]
     },
     "execution_count": 77,
     "metadata": {},
     "output_type": "execute_result"
    }
   ],
   "source": [
    "add_borders(input_array)"
   ]
  }
 ],
 "metadata": {
  "kernelspec": {
   "display_name": "Python 3",
   "language": "python",
   "name": "python3"
  },
  "language_info": {
   "codemirror_mode": {
    "name": "ipython",
    "version": 3
   },
   "file_extension": ".py",
   "mimetype": "text/x-python",
   "name": "python",
   "nbconvert_exporter": "python",
   "pygments_lexer": "ipython3",
   "version": "3.7.4"
  }
 },
 "nbformat": 4,
 "nbformat_minor": 2
}
